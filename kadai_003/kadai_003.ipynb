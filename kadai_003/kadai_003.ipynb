{
  "nbformat": 4,
  "nbformat_minor": 0,
  "metadata": {
    "colab": {
      "provenance": []
    },
    "kernelspec": {
      "name": "python3",
      "display_name": "Python 3"
    },
    "language_info": {
      "name": "python"
    }
  },
  "cells": [
    {
      "cell_type": "code",
      "source": [
        "# Numpyをインポート\n",
        "import numpy as np\n",
        "# Aの多次元コード\n",
        "A = np.array([[0, 1],\n",
        "              [2, 3],\n",
        "              [4, 5]])\n",
        "# Bの多次元コード\n",
        "B = np.array([[0, 1, 2, 3],\n",
        "              [4, 5, 6, 7]])\n",
        "\n",
        "# 行列の積の計算\n",
        "result = np.dot(A, B)\n",
        "\n",
        "# 計算結果を表示するコード\n",
        "result\n",
        "\n",
        "# 行列の要素の最大値を求めるコード\n",
        "result.max()\n"
      ],
      "metadata": {
        "colab": {
          "base_uri": "https://localhost:8080/"
        },
        "id": "pp2fEn3TRdKL",
        "outputId": "e58d9022-28e6-4f6d-9f6c-7eaf4f2fd99f"
      },
      "execution_count": 39,
      "outputs": [
        {
          "output_type": "execute_result",
          "data": {
            "text/plain": [
              "47"
            ]
          },
          "metadata": {},
          "execution_count": 39
        }
      ]
    }
  ]
}